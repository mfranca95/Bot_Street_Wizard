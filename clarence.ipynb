{
 "cells": [
  {
   "cell_type": "code",
   "execution_count": null,
   "metadata": {
    "colab": {
     "base_uri": "https://localhost:8080/",
     "height": 1000
    },
    "id": "73En3ty-56x0",
    "outputId": "425c458c-561e-471b-e89a-bf3bfc73c269"
   },
   "outputs": [
    {
     "name": "stdout",
     "output_type": "stream",
     "text": [
      "Collecting alpaca_trade_api\n",
      "  Downloading alpaca_trade_api-3.0.2-py3-none-any.whl (34 kB)\n",
      "Requirement already satisfied: pandas>=0.18.1 in /usr/local/lib/python3.10/dist-packages (from alpaca_trade_api) (1.5.3)\n",
      "Requirement already satisfied: numpy>=1.11.1 in /usr/local/lib/python3.10/dist-packages (from alpaca_trade_api) (1.23.5)\n",
      "Requirement already satisfied: requests<3,>2 in /usr/local/lib/python3.10/dist-packages (from alpaca_trade_api) (2.31.0)\n",
      "Collecting urllib3<2,>1.24 (from alpaca_trade_api)\n",
      "  Downloading urllib3-1.26.18-py2.py3-none-any.whl (143 kB)\n",
      "\u001b[2K     \u001b[90m━━━━━━━━━━━━━━━━━━━━━━━━━━━━━━━━━━━━━━━━\u001b[0m \u001b[32m143.8/143.8 kB\u001b[0m \u001b[31m2.0 MB/s\u001b[0m eta \u001b[36m0:00:00\u001b[0m\n",
      "\u001b[?25hRequirement already satisfied: websocket-client<2,>=0.56.0 in /usr/local/lib/python3.10/dist-packages (from alpaca_trade_api) (1.7.0)\n",
      "Collecting websockets<11,>=9.0 (from alpaca_trade_api)\n",
      "  Downloading websockets-10.4-cp310-cp310-manylinux_2_5_x86_64.manylinux1_x86_64.manylinux_2_17_x86_64.manylinux2014_x86_64.whl (106 kB)\n",
      "\u001b[2K     \u001b[90m━━━━━━━━━━━━━━━━━━━━━━━━━━━━━━━━━━━━━━━━\u001b[0m \u001b[32m106.8/106.8 kB\u001b[0m \u001b[31m9.1 MB/s\u001b[0m eta \u001b[36m0:00:00\u001b[0m\n",
      "\u001b[?25hCollecting msgpack==1.0.3 (from alpaca_trade_api)\n",
      "  Downloading msgpack-1.0.3-cp310-cp310-manylinux_2_17_x86_64.manylinux2014_x86_64.whl (323 kB)\n",
      "\u001b[2K     \u001b[90m━━━━━━━━━━━━━━━━━━━━━━━━━━━━━━━━━━━━━━━━\u001b[0m \u001b[32m323.7/323.7 kB\u001b[0m \u001b[31m7.3 MB/s\u001b[0m eta \u001b[36m0:00:00\u001b[0m\n",
      "\u001b[?25hCollecting aiohttp==3.8.2 (from alpaca_trade_api)\n",
      "  Downloading aiohttp-3.8.2-cp310-cp310-manylinux_2_17_x86_64.manylinux2014_x86_64.whl (1.0 MB)\n",
      "\u001b[2K     \u001b[90m━━━━━━━━━━━━━━━━━━━━━━━━━━━━━━━━━━━━━━━━\u001b[0m \u001b[32m1.0/1.0 MB\u001b[0m \u001b[31m18.9 MB/s\u001b[0m eta \u001b[36m0:00:00\u001b[0m\n",
      "\u001b[?25hCollecting PyYAML==6.0 (from alpaca_trade_api)\n",
      "  Downloading PyYAML-6.0-cp310-cp310-manylinux_2_5_x86_64.manylinux1_x86_64.manylinux_2_12_x86_64.manylinux2010_x86_64.whl (682 kB)\n",
      "\u001b[2K     \u001b[90m━━━━━━━━━━━━━━━━━━━━━━━━━━━━━━━━━━━━━━━━\u001b[0m \u001b[32m682.2/682.2 kB\u001b[0m \u001b[31m40.9 MB/s\u001b[0m eta \u001b[36m0:00:00\u001b[0m\n",
      "\u001b[?25hCollecting deprecation==2.1.0 (from alpaca_trade_api)\n",
      "  Downloading deprecation-2.1.0-py2.py3-none-any.whl (11 kB)\n",
      "Requirement already satisfied: attrs>=17.3.0 in /usr/local/lib/python3.10/dist-packages (from aiohttp==3.8.2->alpaca_trade_api) (23.1.0)\n",
      "Collecting charset-normalizer<3.0,>=2.0 (from aiohttp==3.8.2->alpaca_trade_api)\n",
      "  Downloading charset_normalizer-2.1.1-py3-none-any.whl (39 kB)\n",
      "Collecting multidict<6.0,>=4.5 (from aiohttp==3.8.2->alpaca_trade_api)\n",
      "  Downloading multidict-5.2.0-cp310-cp310-manylinux_2_5_x86_64.manylinux1_x86_64.manylinux_2_12_x86_64.manylinux2010_x86_64.whl (175 kB)\n",
      "\u001b[2K     \u001b[90m━━━━━━━━━━━━━━━━━━━━━━━━━━━━━━━━━━━━━━━━\u001b[0m \u001b[32m175.1/175.1 kB\u001b[0m \u001b[31m18.9 MB/s\u001b[0m eta \u001b[36m0:00:00\u001b[0m\n",
      "\u001b[?25hRequirement already satisfied: async-timeout<5.0,>=4.0.0a3 in /usr/local/lib/python3.10/dist-packages (from aiohttp==3.8.2->alpaca_trade_api) (4.0.3)\n",
      "Requirement already satisfied: yarl<2.0,>=1.0 in /usr/local/lib/python3.10/dist-packages (from aiohttp==3.8.2->alpaca_trade_api) (1.9.3)\n",
      "Requirement already satisfied: frozenlist>=1.1.1 in /usr/local/lib/python3.10/dist-packages (from aiohttp==3.8.2->alpaca_trade_api) (1.4.0)\n",
      "Requirement already satisfied: aiosignal>=1.1.2 in /usr/local/lib/python3.10/dist-packages (from aiohttp==3.8.2->alpaca_trade_api) (1.3.1)\n",
      "Requirement already satisfied: packaging in /usr/local/lib/python3.10/dist-packages (from deprecation==2.1.0->alpaca_trade_api) (23.2)\n",
      "Requirement already satisfied: python-dateutil>=2.8.1 in /usr/local/lib/python3.10/dist-packages (from pandas>=0.18.1->alpaca_trade_api) (2.8.2)\n",
      "Requirement already satisfied: pytz>=2020.1 in /usr/local/lib/python3.10/dist-packages (from pandas>=0.18.1->alpaca_trade_api) (2023.3.post1)\n",
      "Requirement already satisfied: idna<4,>=2.5 in /usr/local/lib/python3.10/dist-packages (from requests<3,>2->alpaca_trade_api) (3.6)\n",
      "Requirement already satisfied: certifi>=2017.4.17 in /usr/local/lib/python3.10/dist-packages (from requests<3,>2->alpaca_trade_api) (2023.11.17)\n",
      "Requirement already satisfied: six>=1.5 in /usr/local/lib/python3.10/dist-packages (from python-dateutil>=2.8.1->pandas>=0.18.1->alpaca_trade_api) (1.16.0)\n",
      "\u001b[33mWARNING: The candidate selected for download or install is a yanked version: 'aiohttp' candidate (version 3.8.2 at https://files.pythonhosted.org/packages/8f/52/ea1e5eac3e748a94fdaafba5ab68adfb833f0cbdb68cc8149fbba5574176/aiohttp-3.8.2-cp310-cp310-manylinux_2_17_x86_64.manylinux2014_x86_64.whl (from https://pypi.org/simple/aiohttp/) (requires-python:>=3.6))\n",
      "Reason for being yanked: This version includes overly restrictive multidict upper boundary disallowing multidict v6+. The previous patch version didn't have that and this is now causing dependency resolution problems for the users who have an \"incompatible\" version pinned. This is not really necessary anymore and will be addressed in the next release v3.8.3\n",
      "\n",
      "https://github.com/aio-libs/aiohttp/pull/6950\u001b[0m\u001b[33m\n",
      "\u001b[0mInstalling collected packages: msgpack, websockets, urllib3, PyYAML, multidict, deprecation, charset-normalizer, aiohttp, alpaca_trade_api\n",
      "  Attempting uninstall: msgpack\n",
      "    Found existing installation: msgpack 1.0.7\n",
      "    Uninstalling msgpack-1.0.7:\n",
      "      Successfully uninstalled msgpack-1.0.7\n",
      "  Attempting uninstall: urllib3\n",
      "    Found existing installation: urllib3 2.0.7\n",
      "    Uninstalling urllib3-2.0.7:\n",
      "      Successfully uninstalled urllib3-2.0.7\n",
      "  Attempting uninstall: PyYAML\n",
      "    Found existing installation: PyYAML 6.0.1\n",
      "    Uninstalling PyYAML-6.0.1:\n",
      "      Successfully uninstalled PyYAML-6.0.1\n",
      "  Attempting uninstall: multidict\n",
      "    Found existing installation: multidict 6.0.4\n",
      "    Uninstalling multidict-6.0.4:\n",
      "      Successfully uninstalled multidict-6.0.4\n",
      "  Attempting uninstall: charset-normalizer\n",
      "    Found existing installation: charset-normalizer 3.3.2\n",
      "    Uninstalling charset-normalizer-3.3.2:\n",
      "      Successfully uninstalled charset-normalizer-3.3.2\n",
      "  Attempting uninstall: aiohttp\n",
      "    Found existing installation: aiohttp 3.9.1\n",
      "    Uninstalling aiohttp-3.9.1:\n",
      "      Successfully uninstalled aiohttp-3.9.1\n",
      "\u001b[31mERROR: pip's dependency resolver does not currently take into account all the packages that are installed. This behaviour is the source of the following dependency conflicts.\n",
      "llmx 0.0.15a0 requires cohere, which is not installed.\n",
      "llmx 0.0.15a0 requires openai, which is not installed.\n",
      "llmx 0.0.15a0 requires tiktoken, which is not installed.\u001b[0m\u001b[31m\n",
      "\u001b[0mSuccessfully installed PyYAML-6.0 aiohttp-3.8.2 alpaca_trade_api-3.0.2 charset-normalizer-2.1.1 deprecation-2.1.0 msgpack-1.0.3 multidict-5.2.0 urllib3-1.26.18 websockets-10.4\n"
     ]
    },
    {
     "data": {
      "application/vnd.colab-display-data+json": {
       "pip_warning": {
        "packages": [
         "charset_normalizer",
         "urllib3"
        ]
       }
      }
     },
     "metadata": {},
     "output_type": "display_data"
    }
   ],
   "source": [
    "!pip install alpaca_trade_api"
   ]
  },
  {
   "cell_type": "code",
   "execution_count": null,
   "metadata": {
    "colab": {
     "base_uri": "https://localhost:8080/",
     "height": 1000
    },
    "id": "5dWi7_3OWMYv",
    "outputId": "4bc36d9f-78be-4b44-9d96-725a2b126c54"
   },
   "outputs": [],
   "source": [
    "# Import necessary libraries\n",
    "import pandas as pd\n",
    "import numpy as np\n",
    "from sklearn.preprocessing import MinMaxScaler\n",
    "from keras.models import Sequential\n",
    "from keras.layers import LSTM, Dense\n",
    "import alpaca_trade_api as tradeapi\n",
    "\n",
    "# API keys\n",
    "alpaca_api_key = \"PKJYB527YAQVS4J907RJ\"\n",
    "alpaca_secret_key = \"zb5bvTpu8cWaKIgAbDCESouV9MX0qn4RXiQzS5n8\"\n",
    "\n",
    "# Create the Alpaca API object\n",
    "alpaca = tradeapi.REST(alpaca_api_key, alpaca_secret_key, api_version=\"v2\")\n",
    "\n",
    "# Set the tickers and timeframe\n",
    "tickers = [\"NVDA\"]\n",
    "timeframe = \"1Day\"\n",
    "\n",
    "# Set the date range\n",
    "start = pd.Timestamp(\"2014-02-07\", tz=\"America/New_York\").isoformat()\n",
    "end = pd.Timestamp(\"2020-02-07\", tz=\"America/New_York\").isoformat()\n",
    "\n",
    "# Get the data\n",
    "df = alpaca.get_bars(tickers, timeframe, start=start, end=end).df\n",
    "\n",
    "# Drop the 'symbol' column and add shifted close column\n",
    "df = df.drop(columns=['symbol'])\n",
    "\n",
    "# Function to create the signal\n",
    "def signal_creator_5(row):\n",
    "    percent_diff = (row['close'] - row['shifted_close_5']) / row['shifted_close_5']\n",
    "    if percent_diff > 0.03:\n",
    "        return 1\n",
    "    elif percent_diff < -0.03:\n",
    "        return -1\n",
    "    else:\n",
    "        return 0\n",
    "\n",
    "def signal_creator_15(row):\n",
    "    percent_diff = (row['close'] - row['shifted_close_15']) / row['shifted_close_15']\n",
    "    if percent_diff > 0.03:\n",
    "        return 1\n",
    "    elif percent_diff < -0.03:\n",
    "        return -1\n",
    "    else:\n",
    "        return 0\n",
    "\n",
    "def signal_creator_30(row):\n",
    "    percent_diff = (row['close'] - row['shifted_close_30']) / row['shifted_close_30']\n",
    "    if percent_diff > 0.03:\n",
    "        return 1\n",
    "    elif percent_diff < -0.03:\n",
    "        return -1\n",
    "    else:\n",
    "        return 0\n",
    "\n",
    "# 5 day shift\n",
    "df['shifted_close_5'] = df['close'].shift(periods=5)\n",
    "df['signal_5'] = 0\n",
    "df['signal_5'] = df.apply(signal_creator_5, axis=1)\n",
    "\n",
    "# 15 day shift\n",
    "df['shifted_close_15'] = df['close'].shift(periods=15)\n",
    "df['signal_15'] = 0\n",
    "df['signal_15'] = df.apply(signal_creator_15, axis=1)\n",
    "\n",
    "# 30 day shift\n",
    "df['shifted_close_30'] = df['close'].shift(periods=30)\n",
    "df['signal_30'] = 0\n",
    "df['signal_30'] = df.apply(signal_creator_30, axis=1)\n",
    "\n",
    "# Columns and NA drops to prevent data leakege\n",
    "df.dropna(inplace=True)\n",
    "df.drop(columns=['shifted_close_5','shifted_close_15','shifted_close_30'],inplace=True)\n",
    "display(df.head(50))\n",
    "\n",
    "# Separate features and target\n",
    "features = df.drop(columns = ['signal_5', 'signal_15', 'signal_30'], axis=1)\n",
    "target = df.drop(columns = ['close', 'high', 'low', 'trade_count', 'open', 'volume', 'vwap'], axis=1)\n",
    "display(target)\n"
   ]
  },
  {
   "cell_type": "code",
   "execution_count": null,
   "metadata": {
    "id": "huD6i_jtt9Qs"
   },
   "outputs": [],
   "source": [
    "# # Scale the features\n",
    "# scaler = MinMaxScaler(feature_range=(0, 1))\n",
    "# scaled_features = scaler.fit_transform(features)\n",
    "\n",
    "# # Function to create dataset for LSTM\n",
    "# def create_dataset(X, y, time_steps=5):\n",
    "#     Xs, ys = [], []\n",
    "#     for i in range(len(X) - time_steps):\n",
    "#         Xs.append(X[i:(i + time_steps), :])\n",
    "#         ys.append(y[i + time_steps])\n",
    "#     return np.array(Xs), np.array(ys)\n",
    "\n",
    "# # Creating the dataset\n",
    "# time_steps = 5\n",
    "# X, y = create_dataset(scaled_features, target.values, time_steps)\n",
    "\n",
    "# # Splitting data into training and testing sets\n",
    "# train_size = int(len(X) * 0.8)\n",
    "# X_train, X_test = X[:train_size], X[train_size:]\n",
    "# y_train, y_test = y[:train_size], y[train_size:]\n",
    "\n",
    "# # Building the LSTM model\n",
    "# model_5 = Sequential()\n",
    "# model_15 = Sequential()\n",
    "# model_30 = Sequential()\n",
    "# def builder(model):\n",
    "#   model.add(LSTM(50, return_sequences=True, input_shape=(time_steps, X.shape[2])))\n",
    "#   model.add(LSTM(50, return_sequences=False))\n",
    "#   model.add(Dense(25))\n",
    "#   model.add(Dense(1))\n",
    "\n",
    "# builder(model_5)\n",
    "# builder(model_15)\n",
    "# builder(model_30)\n",
    "\n",
    "# # Compiling the model\n",
    "# model_5.compile(optimizer='adam', loss='mean_squared_error')\n",
    "# model_15.compile(optimizer='adam', loss='mean_squared_error')\n",
    "# model_30.compile(optimizer='adam', loss='mean_squared_error')\n",
    "\n",
    "# # Training the model\n",
    "# model_5.fit(X_train, y_train, epochs=100, batch_size=32)\n",
    "# model_15.fit(X_train, y_train, epochs=100, batch_size=32)\n",
    "# model_30.fit(X_train, y_train, epochs=100, batch_size=32)\n",
    "\n",
    "# # Model Evaluation\n",
    "# def eval(model):\n",
    "#   test_loss = model.evaluate(X_test, y_test)\n",
    "#   print(f'Test Loss: {test_loss}')\n",
    "\n",
    "# eval(model_5)\n",
    "# eval(model_15)\n",
    "# eval(model_30)\n",
    "\n",
    "# # Making Predictions\n",
    "# predictions_5 = model_5.predict(X_test)\n",
    "# predictions_15 = model_15.predict(X_test)\n",
    "# predictions_30 = model_30.predict(X_test)\n",
    "\n",
    "# # Function to interpret predictions\n",
    "# def interpret_prediction(prediction):\n",
    "#     if prediction > 0.03:\n",
    "#         return 1  # Buy\n",
    "#     elif prediction < -0.03:\n",
    "#         return -1  # Sell\n",
    "#     else:\n",
    "#         return 0  # Hold\n",
    "\n",
    "# interpret_prediction(predictions_5)\n",
    "# interpret_prediction(predictions_15)\n",
    "# interpret_prediction(predictions_30)\n",
    "\n",
    "# #interpreted_signals = [interpret_prediction(p[0]) for p in predictions]\n",
    "\n",
    "# # Example: Print first 10 decisions\n",
    "# print(interpreted_signals[:10])"
   ]
  },
  {
   "cell_type": "markdown",
   "metadata": {
    "id": "8LQ2kSZD52hi"
   },
   "source": []
  },
  {
   "cell_type": "code",
   "execution_count": 67,
   "metadata": {
    "id": "W1BF3hb-3usp"
   },
   "outputs": [],
   "source": [
    "# Scale the features\n",
    "scaler = MinMaxScaler(feature_range=(0, 1))\n",
    "scaled_features = scaler.fit_transform(features)"
   ]
  },
  {
   "cell_type": "code",
   "execution_count": 68,
   "metadata": {
    "id": "UCtTKOSZYh3n"
   },
   "outputs": [],
   "source": [
    "# Function to create dataset for LSTM\n",
    "def create_dataset(X, y, time_steps=5):\n",
    "    Xs, ys = [], []\n",
    "    for i in range(len(X) - time_steps):\n",
    "        Xs.append(X[i:(i + time_steps), :])\n",
    "        ys.append(y[i + time_steps])\n",
    "    return np.array(Xs), np.array(ys)"
   ]
  },
  {
   "cell_type": "code",
   "execution_count": 69,
   "metadata": {
    "id": "Qcs0dwIz4bU9"
   },
   "outputs": [],
   "source": [
    "# Creating the dataset\n",
    "time_steps = 5\n",
    "X, y = create_dataset(scaled_features, target.values, time_steps)"
   ]
  },
  {
   "cell_type": "code",
   "execution_count": 70,
   "metadata": {
    "id": "sBghA9Ya4cIk"
   },
   "outputs": [],
   "source": [
    "# Splitting data into training and testing sets\n",
    "train_size = int(len(X) * 0.8)\n",
    "X_train, X_test = X[:train_size], X[train_size:]\n",
    "y_train, y_test = y[:train_size], y[train_size:]"
   ]
  },
  {
   "cell_type": "code",
   "execution_count": 71,
   "metadata": {
    "id": "-fSQNWim6bki"
   },
   "outputs": [],
   "source": [
    "model_5 = Sequential()"
   ]
  },
  {
   "cell_type": "code",
   "execution_count": 72,
   "metadata": {
    "id": "Fpwg_XqN6iCc"
   },
   "outputs": [],
   "source": [
    "model_15 = Sequential()"
   ]
  },
  {
   "cell_type": "code",
   "execution_count": 73,
   "metadata": {
    "id": "l_YHqvnS6mqf"
   },
   "outputs": [],
   "source": [
    "model_30 = Sequential()"
   ]
  },
  {
   "cell_type": "code",
   "execution_count": 74,
   "metadata": {
    "id": "92sL9AHu4gJ7"
   },
   "outputs": [],
   "source": [
    "# Building the LSTM model\n",
    "def builder(model):\n",
    "  model.add(LSTM(50, return_sequences=True, input_shape=(time_steps, X.shape[2])))\n",
    "  model.add(LSTM(50, return_sequences=False))\n",
    "  model.add(Dense(25))\n",
    "  model.add(Dense(1))"
   ]
  },
  {
   "cell_type": "code",
   "execution_count": 75,
   "metadata": {
    "id": "8Rdhjz-J6uiA"
   },
   "outputs": [],
   "source": [
    "builder(model_5)"
   ]
  },
  {
   "cell_type": "code",
   "execution_count": 76,
   "metadata": {
    "id": "59R2jOXf6xZV"
   },
   "outputs": [],
   "source": [
    "builder(model_15)"
   ]
  },
  {
   "cell_type": "code",
   "execution_count": 77,
   "metadata": {
    "id": "1Fyb6jCI626a"
   },
   "outputs": [],
   "source": [
    "builder(model_30)"
   ]
  },
  {
   "cell_type": "code",
   "execution_count": 78,
   "metadata": {
    "id": "SiwrdBL14jrq"
   },
   "outputs": [],
   "source": [
    "# Compiling the model\n",
    "model_5.compile(optimizer='adam', loss='mean_squared_error')\n",
    "model_15.compile(optimizer='adam', loss='mean_squared_error')\n",
    "model_30.compile(optimizer='adam', loss='mean_squared_error')\n"
   ]
  },
  {
   "cell_type": "code",
   "execution_count": 79,
   "metadata": {
    "colab": {
     "base_uri": "https://localhost:8080/"
    },
    "id": "gYiEllQ-5HCY",
    "outputId": "a4829a25-491a-45d4-9dc0-4db2bdca27d9"
   },
   "outputs": [
    {
     "name": "stdout",
     "output_type": "stream",
     "text": [
      "Epoch 1/50\n",
      "25/25 [==============================] - 6s 10ms/step - loss: 0.6651\n",
      "Epoch 2/50\n",
      "25/25 [==============================] - 0s 10ms/step - loss: 0.6153\n",
      "Epoch 3/50\n",
      "25/25 [==============================] - 0s 11ms/step - loss: 0.5952\n",
      "Epoch 4/50\n",
      "25/25 [==============================] - 0s 12ms/step - loss: 0.5922\n",
      "Epoch 5/50\n",
      "25/25 [==============================] - 0s 11ms/step - loss: 0.5876\n",
      "Epoch 6/50\n",
      "25/25 [==============================] - 0s 10ms/step - loss: 0.5869\n",
      "Epoch 7/50\n",
      "25/25 [==============================] - 0s 11ms/step - loss: 0.5816\n",
      "Epoch 8/50\n",
      "25/25 [==============================] - 0s 11ms/step - loss: 0.5778\n",
      "Epoch 9/50\n",
      "25/25 [==============================] - 0s 11ms/step - loss: 0.5775\n",
      "Epoch 10/50\n",
      "25/25 [==============================] - 0s 11ms/step - loss: 0.5679\n",
      "Epoch 11/50\n",
      "25/25 [==============================] - 0s 10ms/step - loss: 0.5636\n",
      "Epoch 12/50\n",
      "25/25 [==============================] - 0s 10ms/step - loss: 0.5598\n",
      "Epoch 13/50\n",
      "25/25 [==============================] - 0s 10ms/step - loss: 0.5674\n",
      "Epoch 14/50\n",
      "25/25 [==============================] - 0s 10ms/step - loss: 0.5575\n",
      "Epoch 15/50\n",
      "25/25 [==============================] - 0s 10ms/step - loss: 0.5576\n",
      "Epoch 16/50\n",
      "25/25 [==============================] - 0s 10ms/step - loss: 0.5632\n",
      "Epoch 17/50\n",
      "25/25 [==============================] - 0s 11ms/step - loss: 0.5613\n",
      "Epoch 18/50\n",
      "25/25 [==============================] - 0s 14ms/step - loss: 0.5766\n",
      "Epoch 19/50\n",
      "25/25 [==============================] - 0s 14ms/step - loss: 0.5585\n",
      "Epoch 20/50\n",
      "25/25 [==============================] - 0s 16ms/step - loss: 0.5466\n",
      "Epoch 21/50\n",
      "25/25 [==============================] - 0s 16ms/step - loss: 0.5499\n",
      "Epoch 22/50\n",
      "25/25 [==============================] - 0s 17ms/step - loss: 0.5367\n",
      "Epoch 23/50\n",
      "25/25 [==============================] - 1s 32ms/step - loss: 0.5297\n",
      "Epoch 24/50\n",
      "25/25 [==============================] - 1s 31ms/step - loss: 0.5310\n",
      "Epoch 25/50\n",
      "25/25 [==============================] - 1s 27ms/step - loss: 0.5414\n",
      "Epoch 26/50\n",
      "25/25 [==============================] - 1s 26ms/step - loss: 0.5403\n",
      "Epoch 27/50\n",
      "25/25 [==============================] - 1s 25ms/step - loss: 0.5321\n",
      "Epoch 28/50\n",
      "25/25 [==============================] - 1s 26ms/step - loss: 0.5290\n",
      "Epoch 29/50\n",
      "25/25 [==============================] - 1s 20ms/step - loss: 0.5625\n",
      "Epoch 30/50\n",
      "25/25 [==============================] - 0s 13ms/step - loss: 0.5428\n",
      "Epoch 31/50\n",
      "25/25 [==============================] - 0s 10ms/step - loss: 0.5258\n",
      "Epoch 32/50\n",
      "25/25 [==============================] - 0s 10ms/step - loss: 0.5175\n",
      "Epoch 33/50\n",
      "25/25 [==============================] - 0s 11ms/step - loss: 0.5193\n",
      "Epoch 34/50\n",
      "25/25 [==============================] - 0s 10ms/step - loss: 0.5187\n",
      "Epoch 35/50\n",
      "25/25 [==============================] - 0s 11ms/step - loss: 0.5343\n",
      "Epoch 36/50\n",
      "25/25 [==============================] - 0s 11ms/step - loss: 0.5157\n",
      "Epoch 37/50\n",
      "25/25 [==============================] - 0s 10ms/step - loss: 0.5108\n",
      "Epoch 38/50\n",
      "25/25 [==============================] - 0s 11ms/step - loss: 0.5239\n",
      "Epoch 39/50\n",
      "25/25 [==============================] - 0s 10ms/step - loss: 0.5101\n",
      "Epoch 40/50\n",
      "25/25 [==============================] - 0s 10ms/step - loss: 0.5020\n",
      "Epoch 41/50\n",
      "25/25 [==============================] - 0s 10ms/step - loss: 0.5132\n",
      "Epoch 42/50\n",
      "25/25 [==============================] - 0s 12ms/step - loss: 0.5003\n",
      "Epoch 43/50\n",
      "25/25 [==============================] - 0s 11ms/step - loss: 0.5103\n",
      "Epoch 44/50\n",
      "25/25 [==============================] - 0s 10ms/step - loss: 0.5008\n",
      "Epoch 45/50\n",
      "25/25 [==============================] - 0s 11ms/step - loss: 0.5113\n",
      "Epoch 46/50\n",
      "25/25 [==============================] - 0s 11ms/step - loss: 0.4924\n",
      "Epoch 47/50\n",
      "25/25 [==============================] - 0s 12ms/step - loss: 0.4812\n",
      "Epoch 48/50\n",
      "25/25 [==============================] - 0s 13ms/step - loss: 0.4832\n",
      "Epoch 49/50\n",
      "25/25 [==============================] - 0s 11ms/step - loss: 0.4818\n",
      "Epoch 50/50\n",
      "25/25 [==============================] - 0s 11ms/step - loss: 0.4805\n"
     ]
    },
    {
     "data": {
      "text/plain": [
       "<keras.src.callbacks.History at 0x7d2fda627d90>"
      ]
     },
     "execution_count": 79,
     "metadata": {},
     "output_type": "execute_result"
    }
   ],
   "source": [
    "# Training the model\n",
    "model_5.fit(X_train, y_train, epochs=50, batch_size=32)"
   ]
  },
  {
   "cell_type": "code",
   "execution_count": 80,
   "metadata": {
    "colab": {
     "base_uri": "https://localhost:8080/"
    },
    "id": "GNkQ-2IC7IO_",
    "outputId": "89e82cfb-43dc-4833-bfb2-a73b4d83c2fa"
   },
   "outputs": [
    {
     "name": "stdout",
     "output_type": "stream",
     "text": [
      "Epoch 1/50\n",
      "25/25 [==============================] - 6s 17ms/step - loss: 0.6668\n",
      "Epoch 2/50\n",
      "25/25 [==============================] - 0s 16ms/step - loss: 0.6201\n",
      "Epoch 3/50\n",
      "25/25 [==============================] - 0s 15ms/step - loss: 0.5999\n",
      "Epoch 4/50\n",
      "25/25 [==============================] - 0s 16ms/step - loss: 0.5890\n",
      "Epoch 5/50\n",
      "25/25 [==============================] - 0s 16ms/step - loss: 0.5846\n",
      "Epoch 6/50\n",
      "25/25 [==============================] - 0s 13ms/step - loss: 0.5822\n",
      "Epoch 7/50\n",
      "25/25 [==============================] - 0s 11ms/step - loss: 0.5745\n",
      "Epoch 8/50\n",
      "25/25 [==============================] - 0s 11ms/step - loss: 0.5712\n",
      "Epoch 9/50\n",
      "25/25 [==============================] - 0s 12ms/step - loss: 0.5628\n",
      "Epoch 10/50\n",
      "25/25 [==============================] - 0s 12ms/step - loss: 0.5599\n",
      "Epoch 11/50\n",
      "25/25 [==============================] - 0s 11ms/step - loss: 0.5906\n",
      "Epoch 12/50\n",
      "25/25 [==============================] - 0s 11ms/step - loss: 0.5608\n",
      "Epoch 13/50\n",
      "25/25 [==============================] - 0s 11ms/step - loss: 0.5615\n",
      "Epoch 14/50\n",
      "25/25 [==============================] - 0s 11ms/step - loss: 0.5841\n",
      "Epoch 15/50\n",
      "25/25 [==============================] - 0s 10ms/step - loss: 0.5584\n",
      "Epoch 16/50\n",
      "25/25 [==============================] - 0s 11ms/step - loss: 0.5611\n",
      "Epoch 17/50\n",
      "25/25 [==============================] - 0s 11ms/step - loss: 0.5484\n",
      "Epoch 18/50\n",
      "25/25 [==============================] - 0s 11ms/step - loss: 0.5426\n",
      "Epoch 19/50\n",
      "25/25 [==============================] - 0s 10ms/step - loss: 0.5448\n",
      "Epoch 20/50\n",
      "25/25 [==============================] - 0s 12ms/step - loss: 0.5558\n",
      "Epoch 21/50\n",
      "25/25 [==============================] - 0s 11ms/step - loss: 0.5330\n",
      "Epoch 22/50\n",
      "25/25 [==============================] - 0s 11ms/step - loss: 0.5335\n",
      "Epoch 23/50\n",
      "25/25 [==============================] - 0s 10ms/step - loss: 0.5430\n",
      "Epoch 24/50\n",
      "25/25 [==============================] - 0s 10ms/step - loss: 0.5277\n",
      "Epoch 25/50\n",
      "25/25 [==============================] - 0s 11ms/step - loss: 0.5507\n",
      "Epoch 26/50\n",
      "25/25 [==============================] - 0s 10ms/step - loss: 0.5389\n",
      "Epoch 27/50\n",
      "25/25 [==============================] - 0s 11ms/step - loss: 0.5238\n",
      "Epoch 28/50\n",
      "25/25 [==============================] - 0s 10ms/step - loss: 0.5252\n",
      "Epoch 29/50\n",
      "25/25 [==============================] - 0s 10ms/step - loss: 0.5131\n",
      "Epoch 30/50\n",
      "25/25 [==============================] - 0s 10ms/step - loss: 0.5178\n",
      "Epoch 31/50\n",
      "25/25 [==============================] - 0s 10ms/step - loss: 0.5165\n",
      "Epoch 32/50\n",
      "25/25 [==============================] - 0s 10ms/step - loss: 0.5212\n",
      "Epoch 33/50\n",
      "25/25 [==============================] - 0s 10ms/step - loss: 0.5198\n",
      "Epoch 34/50\n",
      "25/25 [==============================] - 0s 10ms/step - loss: 0.5026\n",
      "Epoch 35/50\n",
      "25/25 [==============================] - 0s 10ms/step - loss: 0.5102\n",
      "Epoch 36/50\n",
      "25/25 [==============================] - 0s 10ms/step - loss: 0.4995\n",
      "Epoch 37/50\n",
      "25/25 [==============================] - 0s 11ms/step - loss: 0.5215\n",
      "Epoch 38/50\n",
      "25/25 [==============================] - 0s 10ms/step - loss: 0.5086\n",
      "Epoch 39/50\n",
      "25/25 [==============================] - 0s 10ms/step - loss: 0.4925\n",
      "Epoch 40/50\n",
      "25/25 [==============================] - 0s 10ms/step - loss: 0.5242\n",
      "Epoch 41/50\n",
      "25/25 [==============================] - 0s 11ms/step - loss: 0.5073\n",
      "Epoch 42/50\n",
      "25/25 [==============================] - 0s 10ms/step - loss: 0.4976\n",
      "Epoch 43/50\n",
      "25/25 [==============================] - 0s 14ms/step - loss: 0.4876\n",
      "Epoch 44/50\n",
      "25/25 [==============================] - 0s 15ms/step - loss: 0.5077\n",
      "Epoch 45/50\n",
      "25/25 [==============================] - 0s 14ms/step - loss: 0.5047\n",
      "Epoch 46/50\n",
      "25/25 [==============================] - 0s 15ms/step - loss: 0.4908\n",
      "Epoch 47/50\n",
      "25/25 [==============================] - 0s 15ms/step - loss: 0.4823\n",
      "Epoch 48/50\n",
      "25/25 [==============================] - 0s 15ms/step - loss: 0.4716\n",
      "Epoch 49/50\n",
      "25/25 [==============================] - 0s 14ms/step - loss: 0.4978\n",
      "Epoch 50/50\n",
      "25/25 [==============================] - 0s 16ms/step - loss: 0.4847\n"
     ]
    },
    {
     "data": {
      "text/plain": [
       "<keras.src.callbacks.History at 0x7d2fc4ebbaf0>"
      ]
     },
     "execution_count": 80,
     "metadata": {},
     "output_type": "execute_result"
    }
   ],
   "source": [
    "model_15.fit(X_train, y_train, epochs=50, batch_size=32)"
   ]
  },
  {
   "cell_type": "code",
   "execution_count": 81,
   "metadata": {
    "colab": {
     "base_uri": "https://localhost:8080/"
    },
    "id": "jb8CKH5b7MOc",
    "outputId": "d3e2bf74-2380-4e40-fb3f-15e878f26b57"
   },
   "outputs": [
    {
     "name": "stdout",
     "output_type": "stream",
     "text": [
      "Epoch 1/50\n",
      "25/25 [==============================] - 5s 10ms/step - loss: 0.6549\n",
      "Epoch 2/50\n",
      "25/25 [==============================] - 0s 11ms/step - loss: 0.6048\n",
      "Epoch 3/50\n",
      "25/25 [==============================] - 0s 12ms/step - loss: 0.5942\n",
      "Epoch 4/50\n",
      "25/25 [==============================] - 0s 12ms/step - loss: 0.5906\n",
      "Epoch 5/50\n",
      "25/25 [==============================] - 0s 11ms/step - loss: 0.5893\n",
      "Epoch 6/50\n",
      "25/25 [==============================] - 0s 10ms/step - loss: 0.5815\n",
      "Epoch 7/50\n",
      "25/25 [==============================] - 0s 11ms/step - loss: 0.5813\n",
      "Epoch 8/50\n",
      "25/25 [==============================] - 0s 10ms/step - loss: 0.5753\n",
      "Epoch 9/50\n",
      "25/25 [==============================] - 0s 10ms/step - loss: 0.5701\n",
      "Epoch 10/50\n",
      "25/25 [==============================] - 0s 11ms/step - loss: 0.5725\n",
      "Epoch 11/50\n",
      "25/25 [==============================] - 0s 10ms/step - loss: 0.5782\n",
      "Epoch 12/50\n",
      "25/25 [==============================] - 0s 10ms/step - loss: 0.5653\n",
      "Epoch 13/50\n",
      "25/25 [==============================] - 0s 10ms/step - loss: 0.5592\n",
      "Epoch 14/50\n",
      "25/25 [==============================] - 0s 11ms/step - loss: 0.5572\n",
      "Epoch 15/50\n",
      "25/25 [==============================] - 0s 11ms/step - loss: 0.5612\n",
      "Epoch 16/50\n",
      "25/25 [==============================] - 0s 11ms/step - loss: 0.5480\n",
      "Epoch 17/50\n",
      "25/25 [==============================] - 0s 10ms/step - loss: 0.5506\n",
      "Epoch 18/50\n",
      "25/25 [==============================] - 0s 10ms/step - loss: 0.5468\n",
      "Epoch 19/50\n",
      "25/25 [==============================] - 0s 10ms/step - loss: 0.5495\n",
      "Epoch 20/50\n",
      "25/25 [==============================] - 0s 10ms/step - loss: 0.5339\n",
      "Epoch 21/50\n",
      "25/25 [==============================] - 0s 11ms/step - loss: 0.5253\n",
      "Epoch 22/50\n",
      "25/25 [==============================] - 0s 11ms/step - loss: 0.5502\n",
      "Epoch 23/50\n",
      "25/25 [==============================] - 0s 11ms/step - loss: 0.5432\n",
      "Epoch 24/50\n",
      "25/25 [==============================] - 0s 12ms/step - loss: 0.5379\n",
      "Epoch 25/50\n",
      "25/25 [==============================] - 0s 16ms/step - loss: 0.5457\n",
      "Epoch 26/50\n",
      "25/25 [==============================] - 0s 14ms/step - loss: 0.5251\n",
      "Epoch 27/50\n",
      "25/25 [==============================] - 0s 15ms/step - loss: 0.5246\n",
      "Epoch 28/50\n",
      "25/25 [==============================] - 0s 15ms/step - loss: 0.5531\n",
      "Epoch 29/50\n",
      "25/25 [==============================] - 0s 15ms/step - loss: 0.5188\n",
      "Epoch 30/50\n",
      "25/25 [==============================] - 0s 16ms/step - loss: 0.5150\n",
      "Epoch 31/50\n",
      "25/25 [==============================] - 0s 17ms/step - loss: 0.5102\n",
      "Epoch 32/50\n",
      "25/25 [==============================] - 0s 16ms/step - loss: 0.5375\n",
      "Epoch 33/50\n",
      "25/25 [==============================] - 0s 16ms/step - loss: 0.5179\n",
      "Epoch 34/50\n",
      "25/25 [==============================] - 0s 15ms/step - loss: 0.5096\n",
      "Epoch 35/50\n",
      "25/25 [==============================] - 0s 15ms/step - loss: 0.5214\n",
      "Epoch 36/50\n",
      "25/25 [==============================] - 0s 17ms/step - loss: 0.5320\n",
      "Epoch 37/50\n",
      "25/25 [==============================] - 0s 14ms/step - loss: 0.5123\n",
      "Epoch 38/50\n",
      "25/25 [==============================] - 0s 11ms/step - loss: 0.5138\n",
      "Epoch 39/50\n",
      "25/25 [==============================] - 0s 11ms/step - loss: 0.5017\n",
      "Epoch 40/50\n",
      "25/25 [==============================] - 0s 12ms/step - loss: 0.5168\n",
      "Epoch 41/50\n",
      "25/25 [==============================] - 0s 12ms/step - loss: 0.5007\n",
      "Epoch 42/50\n",
      "25/25 [==============================] - 0s 11ms/step - loss: 0.4895\n",
      "Epoch 43/50\n",
      "25/25 [==============================] - 0s 12ms/step - loss: 0.5071\n",
      "Epoch 44/50\n",
      "25/25 [==============================] - 0s 11ms/step - loss: 0.5029\n",
      "Epoch 45/50\n",
      "25/25 [==============================] - 0s 11ms/step - loss: 0.4880\n",
      "Epoch 46/50\n",
      "25/25 [==============================] - 0s 12ms/step - loss: 0.5416\n",
      "Epoch 47/50\n",
      "25/25 [==============================] - 0s 11ms/step - loss: 0.5082\n",
      "Epoch 48/50\n",
      "25/25 [==============================] - 0s 10ms/step - loss: 0.4912\n",
      "Epoch 49/50\n",
      "25/25 [==============================] - 0s 11ms/step - loss: 0.4921\n",
      "Epoch 50/50\n",
      "25/25 [==============================] - 0s 13ms/step - loss: 0.4816\n"
     ]
    },
    {
     "data": {
      "text/plain": [
       "<keras.src.callbacks.History at 0x7d2fcb127340>"
      ]
     },
     "execution_count": 81,
     "metadata": {},
     "output_type": "execute_result"
    }
   ],
   "source": [
    "model_30.fit(X_train, y_train, epochs=50, batch_size=32)"
   ]
  },
  {
   "cell_type": "code",
   "execution_count": 82,
   "metadata": {
    "id": "PKel6t9H5MHI"
   },
   "outputs": [],
   "source": [
    "# Model Evaluation\n",
    "def eval(model):\n",
    "  test_loss = model.evaluate(X_test, y_test)\n",
    "  print(f'Test Loss: {test_loss}')\n"
   ]
  },
  {
   "cell_type": "code",
   "execution_count": 83,
   "metadata": {
    "colab": {
     "base_uri": "https://localhost:8080/"
    },
    "id": "JUxH5GQe7fPF",
    "outputId": "7481cfc8-1481-4ae9-9303-0c98080a1663"
   },
   "outputs": [
    {
     "name": "stdout",
     "output_type": "stream",
     "text": [
      "7/7 [==============================] - 1s 6ms/step - loss: 0.6192\n",
      "Test Loss: 0.6192113757133484\n"
     ]
    }
   ],
   "source": [
    "eval(model_5)"
   ]
  },
  {
   "cell_type": "code",
   "execution_count": 84,
   "metadata": {
    "colab": {
     "base_uri": "https://localhost:8080/"
    },
    "id": "1DdMq5GV7fbB",
    "outputId": "2d29bfce-8553-4f7a-95f1-1959a89eb87f"
   },
   "outputs": [
    {
     "name": "stdout",
     "output_type": "stream",
     "text": [
      "7/7 [==============================] - 2s 5ms/step - loss: 0.6656\n",
      "Test Loss: 0.6655747890472412\n"
     ]
    }
   ],
   "source": [
    "eval(model_15)"
   ]
  },
  {
   "cell_type": "code",
   "execution_count": 85,
   "metadata": {
    "colab": {
     "base_uri": "https://localhost:8080/"
    },
    "id": "zYy-7eUM7fkB",
    "outputId": "98a5433a-3744-4830-8b2b-d55496ea013f"
   },
   "outputs": [
    {
     "name": "stdout",
     "output_type": "stream",
     "text": [
      "7/7 [==============================] - 1s 4ms/step - loss: 0.5088\n",
      "Test Loss: 0.5088016390800476\n"
     ]
    }
   ],
   "source": [
    "eval(model_30)"
   ]
  },
  {
   "cell_type": "code",
   "execution_count": 86,
   "metadata": {
    "colab": {
     "base_uri": "https://localhost:8080/"
    },
    "id": "BgudkeHz5MwI",
    "outputId": "cc2727ce-026e-45f7-83f1-3cb25082c5d3"
   },
   "outputs": [
    {
     "name": "stdout",
     "output_type": "stream",
     "text": [
      "7/7 [==============================] - 1s 5ms/step\n"
     ]
    }
   ],
   "source": [
    "# Making Predictions\n",
    "predictions_5 = model_5.predict(X_test)"
   ]
  },
  {
   "cell_type": "code",
   "execution_count": 87,
   "metadata": {
    "colab": {
     "base_uri": "https://localhost:8080/"
    },
    "id": "f_WHovzN7swy",
    "outputId": "29977274-94cc-45e8-d54a-069ee82f9f37"
   },
   "outputs": [
    {
     "name": "stdout",
     "output_type": "stream",
     "text": [
      "7/7 [==============================] - 1s 4ms/step\n"
     ]
    }
   ],
   "source": [
    "predictions_15 = model_15.predict(X_test)"
   ]
  },
  {
   "cell_type": "code",
   "execution_count": 88,
   "metadata": {
    "colab": {
     "base_uri": "https://localhost:8080/"
    },
    "id": "Zz2kXaua7s9T",
    "outputId": "d57c43ad-16c5-4b4b-ee8f-14dc69b28f12"
   },
   "outputs": [
    {
     "name": "stdout",
     "output_type": "stream",
     "text": [
      "7/7 [==============================] - 1s 4ms/step\n"
     ]
    }
   ],
   "source": [
    "predictions_30 = model_30.predict(X_test)"
   ]
  },
  {
   "cell_type": "code",
   "execution_count": 89,
   "metadata": {
    "id": "XcFB4tUn5WIp"
   },
   "outputs": [],
   "source": [
    "# Function to interpret predictions\n",
    "def interpret_prediction(prediction):\n",
    "    if prediction > 0.03:\n",
    "        return 1  # Buy\n",
    "    elif prediction < -0.03:\n",
    "        return -1  # Sell\n",
    "    else:\n",
    "        return 0  # Hold\n",
    "\n",
    "#interpreted_signals = [interpret_prediction(p[0]) for p in predictions]\n",
    "\n",
    "# Example: Print first 10 decisions\n",
    "\n",
    "\n"
   ]
  },
  {
   "cell_type": "code",
   "execution_count": 90,
   "metadata": {
    "colab": {
     "base_uri": "https://localhost:8080/"
    },
    "id": "z8ASm-9b8x7i",
    "outputId": "39fc2d88-bd49-4367-c832-5d1b554f48c5"
   },
   "outputs": [
    {
     "name": "stdout",
     "output_type": "stream",
     "text": [
      "[1, 1, -1, -1, -1, -1, 0, 1, -1, -1, -1, -1, -1, -1, -1, -1, -1, -1, -1, -1, -1, -1, -1, -1, -1, -1, -1, -1, -1, 1, 1, 1, 1, 1, 1, 1, 1, 1, 1, 1, 1, 1, 1, 1, 1, 1, 1, 1, 1, 1, 1, 0, 1, 1, 1, 1, 1, 1, 1, 1, 1, 1, 1, 1, 1, 1, 1, 1, 1, -1, -1, -1, -1, -1, -1, 1, 1, 1, 0, -1, 0, 1, 1, 1, 1, 1, 0, -1, -1, 0, 1, 1, 1, 1, 1, 1, 1, 1, 1, 1, 0, 0, -1, 0, -1, -1, -1, -1, -1, -1, -1, -1, -1, -1, -1, -1, -1, -1, -1, -1, 1, 1, 1, 1, 1, -1, 0, 1, 1, 1, 1, 1, 1, 0, -1, 1, 1, 1, 1, 1, 0, 1, 1, -1, -1, -1, -1, -1, -1, 0, 1, 1, 1, 1, -1, -1, -1, -1, -1, 1, 1, 1, 1, 1, 1, 1, 1, 1, 1, 1, 1, 1, 1, 1, 1]\n"
     ]
    }
   ],
   "source": [
    "results_5 = [interpret_prediction(p[0]) for p in predictions_5]\n",
    "print(results_5[:-25])"
   ]
  },
  {
   "cell_type": "code",
   "execution_count": 91,
   "metadata": {
    "colab": {
     "base_uri": "https://localhost:8080/"
    },
    "id": "DDQq7G3r8yA6",
    "outputId": "60a071a7-83df-44e3-bd7c-4c961fff2ed3"
   },
   "outputs": [
    {
     "name": "stdout",
     "output_type": "stream",
     "text": [
      "[1, 1, -1, -1, -1, -1, 1, 1, -1, -1, -1, -1, -1, -1, -1, -1, -1, -1, -1, -1, -1, -1, -1, -1, -1, -1, -1, -1, 0, 1, 1, 1, 1, 1, 1, 1, 1, 1, 1, 1, 1, 1, 1, 1, 1, 1, 1, 1, 1, 1, 1, 1, 1, 1, 1, 1, 1, 1, 1, 1, 1, 1, 1, 1, 1, 1, 1, 1, 1, 0, -1, -1, -1, -1, 0, 1, 1, 1, 1, 0, 1, 1, 1, 1, 1, 1, 0, 0, 0, 1, 1, 1, 1, 1, 1, 1, 1, 1, 1, 1, 0, 0, -1, 0, 0, -1, -1, -1, -1, -1, -1, -1, -1, -1, -1, -1, -1, -1, -1, 0, 1, 1, 1, 1, 0, -1, 0, 1, 1, 1, 1, 1, 1, -1, 0, 1, 1, 1, 1, 0, 0, 1, 0, -1, -1, -1, -1, -1, -1, -1, 0, 1, 1, 1, -1, -1, -1, -1, -1, 1, 1, 1, 1, 1, 1, 1, 1, 1, 1, 1, 1, 1, 1, 0, 0]\n"
     ]
    }
   ],
   "source": [
    "results_15 = [interpret_prediction(p[0]) for p in predictions_15]\n",
    "print(results_15[:-25])"
   ]
  },
  {
   "cell_type": "code",
   "execution_count": 92,
   "metadata": {
    "colab": {
     "base_uri": "https://localhost:8080/"
    },
    "id": "PmFzGXde8yOH",
    "outputId": "b08483be-5665-42c2-92bb-a365d1cd7f46"
   },
   "outputs": [
    {
     "name": "stdout",
     "output_type": "stream",
     "text": [
      "[1, 1, 1, 0, 1, 1, 1, 1, 1, 0, -1, -1, -1, -1, -1, -1, -1, -1, -1, 0, 1, 0, 0, 0, -1, -1, -1, -1, 1, 1, 1, 1, 1, 1, 1, 1, 1, 1, 1, 1, 1, 1, 1, 1, 1, 1, 1, 1, 1, 1, 1, 1, 1, 1, 1, 1, 1, 1, 1, 1, 1, 1, 1, 1, 1, 1, 1, 1, 1, 1, 1, -1, -1, -1, 1, 1, 1, 1, 1, 1, 1, 1, 1, 1, 1, 1, 1, 1, 1, 1, 1, 1, 1, 1, 1, 1, 1, 1, 1, 1, 1, 1, 1, 1, 1, 1, 1, 1, 1, 1, 1, 1, 1, 0, 1, 1, 1, 1, 1, 1, 1, 1, 1, 1, 1, 1, 1, 1, 1, 1, 1, 1, 1, 1, 1, 1, 1, 1, 1, 1, 1, 1, 1, 1, 1, 1, 1, 1, 1, 1, 1, 1, 1, 1, 1, 1, 1, 1, 1, 1, 1, 1, 1, 1, 1, 1, 1, 1, 1, 1, 1, 1, 1, 1, 1]\n"
     ]
    }
   ],
   "source": [
    "results_30 = [interpret_prediction(p[0]) for p in predictions_30]\n",
    "print(results_30[:-25])"
   ]
  }
 ],
 "metadata": {
  "colab": {
   "provenance": []
  },
  "kernelspec": {
   "display_name": "Python 3 (ipykernel)",
   "language": "python",
   "name": "python3"
  },
  "language_info": {
   "codemirror_mode": {
    "name": "ipython",
    "version": 3
   },
   "file_extension": ".py",
   "mimetype": "text/x-python",
   "name": "python",
   "nbconvert_exporter": "python",
   "pygments_lexer": "ipython3",
   "version": "3.10.12"
  }
 },
 "nbformat": 4,
 "nbformat_minor": 4
}
